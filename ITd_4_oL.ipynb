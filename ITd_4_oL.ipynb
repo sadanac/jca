{
 "cells": [
  {
   "cell_type": "markdown",
   "metadata": {},
   "source": [
    "# ITdigital: Python als universelles Werkzeug\n",
    "# 4. Programmiertechniken I\n",
    "____\n",
    "lukas.szabo@bfz.de"
   ]
  },
  {
   "cell_type": "markdown",
   "metadata": {
    "slideshow": {
     "slide_type": "slide"
    }
   },
   "source": [
    "## Statement `if`\n",
    "\n",
    "Durch `if` wird eine Bedingung geprüft. Wenn die Bedingung erfüllt ist, werden nachfolgende Operationen ausgeführt."
   ]
  },
  {
   "cell_type": "code",
   "execution_count": null,
   "metadata": {
    "collapsed": true,
    "slideshow": {
     "slide_type": "fragment"
    }
   },
   "outputs": [],
   "source": [
    "if 2 == 2:\n",
    "    print('gleich')\n",
    "    \n",
    "if not 2 == 3:\n",
    "    print('ungleich')"
   ]
  },
  {
   "cell_type": "markdown",
   "metadata": {},
   "source": [
    "## Statements `and` und `or`\n",
    "Mit Hilfe von `and` und `or` können unterschiedlich verknüpfte Bedingungen abgefragt werden."
   ]
  },
  {
   "cell_type": "code",
   "execution_count": null,
   "metadata": {
    "collapsed": true,
    "slideshow": {
     "slide_type": "fragment"
    }
   },
   "outputs": [],
   "source": [
    "if 2 == 1 or 10 > 5:\n",
    "    print('Mindestens eine Bedingung ist wahr!')\n",
    "\n",
    "if 2 == int('2') and 10 > 5:\n",
    "    print('Alle Bedingungen sind wahr!')\n",
    "      \n",
    "if not 2 == 2 and 10 > 5:\n",
    "    print('Alle Bedingungen sind wahr!')"
   ]
  },
  {
   "cell_type": "markdown",
   "metadata": {
    "slideshow": {
     "slide_type": "subslide"
    }
   },
   "source": [
    "## Statement `else`\n",
    "\n",
    "Das Statement `else` muss sich nach einem vorherigen `if` befinden. Wenn das vorangegangene Statement nicht erfüllt wurde, werden entsprechende Operationen ausgeführt."
   ]
  },
  {
   "cell_type": "code",
   "execution_count": null,
   "metadata": {
    "collapsed": true,
    "slideshow": {
     "slide_type": "slide"
    }
   },
   "outputs": [],
   "source": [
    "if 2 == 1:\n",
    "    print('gleich')\n",
    "else:\n",
    "    print('ungleich')\n",
    "    \n",
    "if 2 == 2:\n",
    "    print('gleich')\n",
    "else:\n",
    "    print('ungleich')    "
   ]
  },
  {
   "cell_type": "markdown",
   "metadata": {
    "slideshow": {
     "slide_type": "fragment"
    }
   },
   "source": [
    "## Statement `elif` \n",
    "\n",
    "Das Statement `elif` muss nach `if` und vor `else` (optional) stehen. Dadurch wird eine weitere `if`-Bedingung geprüft."
   ]
  },
  {
   "cell_type": "code",
   "execution_count": null,
   "metadata": {
    "collapsed": true,
    "slideshow": {
     "slide_type": "slide"
    }
   },
   "outputs": [],
   "source": [
    "number = 5\n",
    "if number == 6:\n",
    "    print('Nummer ist 6')\n",
    "elif number == 11:\n",
    "    print('Nummer ist 11')\n",
    "elif number == 13:\n",
    "    print('Nummer ist 13')\n",
    "else:\n",
    "    print('Weder 6, noch 11, noch 13')"
   ]
  },
  {
   "cell_type": "markdown",
   "metadata": {
    "slideshow": {
     "slide_type": "slide"
    }
   },
   "source": [
    "## Statement `while`\n",
    "\n",
    "1. Bedingung wird geprüft\n",
    "    1. wenn wahr: Operation wird ausgeführt, gehe zurück zu 1.\n",
    "    2. wenn unwahr: Ende der Schleife"
   ]
  },
  {
   "cell_type": "code",
   "execution_count": null,
   "metadata": {
    "collapsed": true,
    "scrolled": true,
    "slideshow": {
     "slide_type": "slide"
    }
   },
   "outputs": [],
   "source": [
    "i = 1\n",
    "\n",
    "while i <=5:\n",
    "    print(i)\n",
    "    i += 1\n",
    "\n",
    "print('done') "
   ]
  },
  {
   "cell_type": "markdown",
   "metadata": {},
   "source": [
    "**Achtung:** Die Maschine tut, was ihr aufgetragen wird..."
   ]
  },
  {
   "cell_type": "code",
   "execution_count": null,
   "metadata": {
    "collapsed": true,
    "scrolled": false,
    "slideshow": {
     "slide_type": "fragment"
    }
   },
   "outputs": [],
   "source": [
    "## watch out!\n",
    "#while 1 + 1 == 2:\n",
    "#    print('infinite')"
   ]
  },
  {
   "cell_type": "markdown",
   "metadata": {},
   "source": [
    "Abbruch durch Statement `break` kann hilfreich sein. "
   ]
  },
  {
   "cell_type": "code",
   "execution_count": null,
   "metadata": {
    "collapsed": true,
    "slideshow": {
     "slide_type": "slide"
    }
   },
   "outputs": [],
   "source": [
    "x = 1\n",
    "while 1 + 1 == 2:\n",
    "    print('math works') \n",
    "    print('round', x)    \n",
    "    x += 1          \n",
    "    if x > 3:\n",
    "        print('I believe it')\n",
    "        break"
   ]
  },
  {
   "cell_type": "markdown",
   "metadata": {
    "slideshow": {
     "slide_type": "slide"
    }
   },
   "source": [
    "## Statement `for`\n",
    "\n",
    "Wenn ein Befehl für jedes Element einer Liste (oder eines Diktionärs) durchgeführt werden soll, spricht man von Iteration."
   ]
  },
  {
   "cell_type": "code",
   "execution_count": null,
   "metadata": {
    "collapsed": true,
    "slideshow": {
     "slide_type": "slide"
    }
   },
   "outputs": [],
   "source": [
    "words = ['flow', 'from', 'element', 'to', 'element']\n",
    "counter = 0\n",
    "length = len(words) - 1\n",
    "\n",
    "while counter <= length:\n",
    "    word = words[counter]\n",
    "    print(word + \"!\")\n",
    "    counter += 1"
   ]
  },
  {
   "cell_type": "markdown",
   "metadata": {},
   "source": [
    "**Leichter kann eine Iteration mit Hilfe von `for` ausgeführt werden.**\n",
    "\n",
    "Dabei wird Element für Element durch eine Liste (oder ein Diktionär) gegangen. Eine Operation wird auf das jeweilige Element angewendet. Der Vorgang wird beendet, sobald das letzte Element angesprochen wurde. \n",
    "\n",
    "Die Bezeichnung eines *Elements* ist grundsätzlich beliebig, es sollten aber sprechende Bezeichnungen verwendet werden."
   ]
  },
  {
   "cell_type": "code",
   "execution_count": null,
   "metadata": {
    "collapsed": true,
    "slideshow": {
     "slide_type": "slide"
    }
   },
   "outputs": [],
   "source": [
    "words = ['flow', 'from', 'element', 'to', 'element']\n",
    "for word in words:\n",
    "    print(word + \"!\")"
   ]
  },
  {
   "cell_type": "code",
   "execution_count": null,
   "metadata": {
    "collapsed": true,
    "slideshow": {
     "slide_type": "slide"
    }
   },
   "outputs": [],
   "source": [
    "for word in words:\n",
    "    for letter in word:\n",
    "        print(letter, end='-')"
   ]
  },
  {
   "cell_type": "markdown",
   "metadata": {
    "slideshow": {
     "slide_type": "fragment"
    }
   },
   "source": [
    "Statements können vielfältig kombiniert und genestet werden."
   ]
  },
  {
   "cell_type": "code",
   "execution_count": null,
   "metadata": {
    "collapsed": true,
    "slideshow": {
     "slide_type": "slide"
    }
   },
   "outputs": [],
   "source": [
    "s = 'Ist Gleichheit gerecht?'\n",
    "\n",
    "for letter in s:\n",
    "    if letter == 'h':\n",
    "        print('one of many')"
   ]
  },
  {
   "cell_type": "code",
   "execution_count": null,
   "metadata": {
    "collapsed": true
   },
   "outputs": [],
   "source": [
    "m = ['Ist Gleichheit gerecht?', 'Ist Ungleichheit ungerecht?']\n",
    "\n",
    "for word in m:\n",
    "    for letter in word:\n",
    "        if letter == 'h':\n",
    "            print('one of many')"
   ]
  },
  {
   "cell_type": "code",
   "execution_count": null,
   "metadata": {
    "collapsed": true,
    "slideshow": {
     "slide_type": "fragment"
    }
   },
   "outputs": [],
   "source": [
    "for letter in s:\n",
    "    if letter.islower():\n",
    "        print(letter.upper(), end='')\n",
    "    else:\n",
    "        print(letter.lower(), end='')"
   ]
  },
  {
   "cell_type": "markdown",
   "metadata": {
    "slideshow": {
     "slide_type": "slide"
    }
   },
   "source": [
    "## Funktionsdefinition"
   ]
  },
  {
   "cell_type": "code",
   "execution_count": null,
   "metadata": {
    "collapsed": true,
    "slideshow": {
     "slide_type": "slide"
    }
   },
   "outputs": [],
   "source": [
    "def spam(X):\n",
    "    s = 'spam' * X\n",
    "    return s"
   ]
  },
  {
   "cell_type": "code",
   "execution_count": null,
   "metadata": {
    "collapsed": true
   },
   "outputs": [],
   "source": [
    "spam(5)"
   ]
  },
  {
   "cell_type": "code",
   "execution_count": null,
   "metadata": {
    "collapsed": true,
    "slideshow": {
     "slide_type": "fragment"
    }
   },
   "outputs": [],
   "source": [
    "spams = spam(5)"
   ]
  },
  {
   "cell_type": "markdown",
   "metadata": {},
   "source": [
    "## Übungen"
   ]
  },
  {
   "cell_type": "markdown",
   "metadata": {},
   "source": [
    "1) Wie lange dauert es diese Liste zu erstellen?"
   ]
  },
  {
   "cell_type": "code",
   "execution_count": null,
   "metadata": {
    "collapsed": true
   },
   "outputs": [],
   "source": [
    "L = list(range(100000))"
   ]
  },
  {
   "cell_type": "code",
   "execution_count": null,
   "metadata": {},
   "outputs": [],
   "source": []
  },
  {
   "cell_type": "markdown",
   "metadata": {},
   "source": [
    "2) Erstellen Sie eine Funktion, welche die durchschnittliche Dauer der Erstellung der Liste aus Aufgabe 1) für eine bestimmte Anzahl an Durchläufen berechnet. Wie hoch ist die durchschnittliche Dauer bei 100.000 Durchläufen?"
   ]
  },
  {
   "cell_type": "code",
   "execution_count": null,
   "metadata": {},
   "outputs": [],
   "source": []
  },
  {
   "cell_type": "markdown",
   "metadata": {},
   "source": [
    "3) Erstellen Sie eine Liste, die alle geraden Zahlen von 0 bis 50 enthält. Diese Liste soll absteigend geordnet sein. Entfernen Sie dann sämtliche Zahlen aus der Liste, welche durch drei teilbar sind. "
   ]
  },
  {
   "cell_type": "code",
   "execution_count": null,
   "metadata": {},
   "outputs": [],
   "source": []
  },
  {
   "cell_type": "markdown",
   "metadata": {},
   "source": [
    "4) Schreiben Sie eine Funktion, welche für eine gegebene Liste von Buchstaben die Anzahl sämtliche groß- und kleingeschriebenen Buchstaben getrennt ausgibt."
   ]
  },
  {
   "cell_type": "code",
   "execution_count": 7,
   "metadata": {
    "collapsed": true
   },
   "outputs": [],
   "source": [
    "s = [\"A\", \"b\", \"c\", \"D\", \"e\"]"
   ]
  },
  {
   "cell_type": "code",
   "execution_count": null,
   "metadata": {},
   "outputs": [],
   "source": []
  },
  {
   "cell_type": "markdown",
   "metadata": {},
   "source": [
    "**BONUS** \n",
    "\n",
    "5) Erweitern Sie die Funktion aus Aufgabe 4) so, dass große und kleine Buchstaben auch über Wörter in einer Liste hinweg gezählt werden können. Außerdem sollen die Buchstaben der Wörter nur gezählt werden, sofern sie nicht in der Liste f vorhanden sind."
   ]
  },
  {
   "cell_type": "code",
   "execution_count": 3,
   "metadata": {
    "collapsed": true
   },
   "outputs": [],
   "source": [
    "words = [\"Montag\", \"FLOW\", \"python\"]\n",
    "f = [\"python\"]"
   ]
  },
  {
   "cell_type": "code",
   "execution_count": null,
   "metadata": {
    "collapsed": true
   },
   "outputs": [],
   "source": []
  }
 ],
 "metadata": {
  "celltoolbar": "Slideshow",
  "kernelspec": {
   "display_name": "Python 3",
   "language": "python",
   "name": "python3"
  },
  "language_info": {
   "codemirror_mode": {
    "name": "ipython",
    "version": 3
   },
   "file_extension": ".py",
   "mimetype": "text/x-python",
   "name": "python",
   "nbconvert_exporter": "python",
   "pygments_lexer": "ipython3",
   "version": "3.7.3"
  }
 },
 "nbformat": 4,
 "nbformat_minor": 1
}
