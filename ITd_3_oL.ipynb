{
 "cells": [
  {
   "cell_type": "markdown",
   "metadata": {},
   "source": [
    "# ITdigital: Python als universelles Werkzeug\n",
    "# 3. Weitere Datentypen (Listen, Sets, Diktionäre, Tupel)\n",
    "____\n",
    "lukas.szabo@bfz.de"
   ]
  },
  {
   "cell_type": "markdown",
   "metadata": {},
   "source": [
    "## Nachtrag zur Objektzuweisung\n",
    "\n",
    "Achten Sie bei Objektzuweisung auf bereits vergebene Bezeichnungen. Highlighting durch die genutzte Entwicklungsumgebung kann helfen. "
   ]
  },
  {
   "cell_type": "code",
   "execution_count": 16,
   "metadata": {},
   "outputs": [
    {
     "name": "stdout",
     "output_type": "stream",
     "text": [
      "<class 'str'>\n"
     ]
    }
   ],
   "source": [
    "print(type(str(1)))"
   ]
  },
  {
   "cell_type": "code",
   "execution_count": 17,
   "metadata": {
    "collapsed": true
   },
   "outputs": [],
   "source": [
    "## bad idea\n",
    "#str = 'String' "
   ]
  },
  {
   "cell_type": "code",
   "execution_count": 18,
   "metadata": {},
   "outputs": [
    {
     "name": "stdout",
     "output_type": "stream",
     "text": [
      "<class 'str'>\n"
     ]
    }
   ],
   "source": [
    "print(type(str(1)))"
   ]
  },
  {
   "cell_type": "markdown",
   "metadata": {},
   "source": [
    "**Hinweis:** Neustart des Kernels setzt die Überschreibung zurück!"
   ]
  },
  {
   "cell_type": "markdown",
   "metadata": {
    "slideshow": {
     "slide_type": "-"
    }
   },
   "source": [
    "## Indizierung (sequenzieller Datentypen)\n",
    "\n",
    "Bestimmte Objekte (sequence types) können nach dem Schema `start:stop:step` indiziert werden. Dabei werden gezielt Elemente des Objekts angesprochen."
   ]
  },
  {
   "cell_type": "markdown",
   "metadata": {
    "slideshow": {
     "slide_type": "-"
    }
   },
   "source": [
    "-5 | -4 | -3 | -2 | -1 | **0** | 1 | 2 | 3 | 4 | 5"
   ]
  },
  {
   "cell_type": "markdown",
   "metadata": {},
   "source": [
    "g | n | i | r | t | **S** | t | r | i | n | g"
   ]
  },
  {
   "cell_type": "markdown",
   "metadata": {},
   "source": [
    "Indizierung beginnt im ***Erdgeschoss***!"
   ]
  },
  {
   "cell_type": "code",
   "execution_count": 19,
   "metadata": {
    "scrolled": true,
    "slideshow": {
     "slide_type": "-"
    }
   },
   "outputs": [
    {
     "name": "stdout",
     "output_type": "stream",
     "text": [
      "S\n"
     ]
    }
   ],
   "source": [
    "s = \"String\"\n",
    "print(s[0])"
   ]
  },
  {
   "cell_type": "markdown",
   "metadata": {},
   "source": [
    "Es kann vorwärts und **rückwärts** indiziert werden."
   ]
  },
  {
   "cell_type": "code",
   "execution_count": 20,
   "metadata": {
    "scrolled": true,
    "slideshow": {
     "slide_type": "-"
    }
   },
   "outputs": [
    {
     "data": {
      "text/plain": [
       "True"
      ]
     },
     "execution_count": 20,
     "metadata": {},
     "output_type": "execute_result"
    }
   ],
   "source": [
    "## S t ring\n",
    "s[1] == s[-5] "
   ]
  },
  {
   "cell_type": "markdown",
   "metadata": {},
   "source": [
    "Auch kann ein bestimmter **Bereich** eines Objekts indiziert werden (**slicing**). Dabei ist der **erste Grenzwert eingeschlossen**, der **zweite Grenzwert ausgeschlossen**."
   ]
  },
  {
   "cell_type": "code",
   "execution_count": 21,
   "metadata": {},
   "outputs": [
    {
     "name": "stdout",
     "output_type": "stream",
     "text": [
      "ring\n"
     ]
    }
   ],
   "source": [
    "r = s[2:6]\n",
    "print(r)"
   ]
  },
  {
   "cell_type": "code",
   "execution_count": 22,
   "metadata": {
    "scrolled": true,
    "slideshow": {
     "slide_type": "-"
    }
   },
   "outputs": [
    {
     "name": "stdout",
     "output_type": "stream",
     "text": [
      "grin\n"
     ]
    }
   ],
   "source": [
    "g = s[5] + s[2:5]\n",
    "print(g)"
   ]
  },
  {
   "cell_type": "markdown",
   "metadata": {},
   "source": [
    "Indizierung kann auch in einer bestimmten **Schrittfolge** vollzogen werden."
   ]
  },
  {
   "cell_type": "code",
   "execution_count": 23,
   "metadata": {},
   "outputs": [
    {
     "name": "stdout",
     "output_type": "stream",
     "text": [
      "String Srn tig\n"
     ]
    }
   ],
   "source": [
    "t1 = s[::1]\n",
    "t2 = s[::2]\n",
    "t3 = s[1:6:2]\n",
    "print(t1, t2, t3)"
   ]
  },
  {
   "cell_type": "markdown",
   "metadata": {
    "slideshow": {
     "slide_type": "-"
    }
   },
   "source": [
    "## Listen [ ]\n",
    "Listen sind **veränderbare** (eng. mutable) Sequenzen von Elementen. Sie werden durch **`[]`** begrenzt. Enthaltene Elemente werden mit **Komma** seperiert. Listen können **indiziert** werden."
   ]
  },
  {
   "cell_type": "code",
   "execution_count": 24,
   "metadata": {
    "slideshow": {
     "slide_type": "-"
    }
   },
   "outputs": [
    {
     "name": "stdout",
     "output_type": "stream",
     "text": [
      "[13, 4.5, 'fnord']\n"
     ]
    }
   ],
   "source": [
    "i = 13\n",
    "f = 4.5\n",
    "s = 'fnord'\n",
    "\n",
    "## reminder: 1l1I\n",
    "L = [13, 4.5, 'fnord']\n",
    "print(L)"
   ]
  },
  {
   "cell_type": "markdown",
   "metadata": {},
   "source": [
    "Auch Objekte können Elemente von Listen sein."
   ]
  },
  {
   "cell_type": "code",
   "execution_count": 25,
   "metadata": {
    "slideshow": {
     "slide_type": "-"
    }
   },
   "outputs": [
    {
     "name": "stdout",
     "output_type": "stream",
     "text": [
      "[13, 4.5, 'fnord', [13, 4.5, 'fnord']]\n"
     ]
    }
   ],
   "source": [
    "obj_list = [i, f, s, L]\n",
    "print(obj_list)"
   ]
  },
  {
   "cell_type": "markdown",
   "metadata": {},
   "source": [
    "Listen können (wie auch Strings) indiziert werden."
   ]
  },
  {
   "cell_type": "code",
   "execution_count": 26,
   "metadata": {
    "slideshow": {
     "slide_type": "-"
    }
   },
   "outputs": [
    {
     "name": "stdout",
     "output_type": "stream",
     "text": [
      "[4.5, 'fnord']\n"
     ]
    }
   ],
   "source": [
    "print(obj_list[1:3])"
   ]
  },
  {
   "cell_type": "markdown",
   "metadata": {},
   "source": [
    "Die Länge von Listen kann bestimmt werden."
   ]
  },
  {
   "cell_type": "code",
   "execution_count": 27,
   "metadata": {
    "slideshow": {
     "slide_type": "-"
    }
   },
   "outputs": [
    {
     "name": "stdout",
     "output_type": "stream",
     "text": [
      "4 3 5\n"
     ]
    }
   ],
   "source": [
    "print(len(obj_list), len(obj_list[3]), len(obj_list[3][2]))"
   ]
  },
  {
   "cell_type": "markdown",
   "metadata": {
    "collapsed": true,
    "slideshow": {
     "slide_type": "-"
    }
   },
   "source": [
    "Listen sind **veränderbar** (engl. mutable). Elemente können verändert werden."
   ]
  },
  {
   "cell_type": "code",
   "execution_count": 28,
   "metadata": {
    "slideshow": {
     "slide_type": "-"
    }
   },
   "outputs": [
    {
     "name": "stdout",
     "output_type": "stream",
     "text": [
      "['can', 'touch', 'this']\n"
     ]
    }
   ],
   "source": [
    "mutable = ['spam', 'touch', 'this']\n",
    "mutable[0] = 'can'\n",
    "print(mutable)"
   ]
  },
  {
   "cell_type": "markdown",
   "metadata": {
    "slideshow": {
     "slide_type": "-"
    }
   },
   "source": [
    "Rückblick: Strings sind **unveränderbar** (engl. immutable). Elemente können nur durch Funktionen verändert werden (wobei ein neuer String erzeugt wird)."
   ]
  },
  {
   "cell_type": "code",
   "execution_count": 29,
   "metadata": {
    "scrolled": true,
    "slideshow": {
     "slide_type": "fragment"
    }
   },
   "outputs": [
    {
     "name": "stdout",
     "output_type": "stream",
     "text": [
      "can't touch this\n"
     ]
    }
   ],
   "source": [
    "immutable = 'can\\'t touch this' ## attention: escaping!\n",
    "print(immutable)"
   ]
  },
  {
   "cell_type": "code",
   "execution_count": 30,
   "metadata": {},
   "outputs": [
    {
     "name": "stdout",
     "output_type": "stream",
     "text": [
      "can touch this\n"
     ]
    }
   ],
   "source": [
    "print(immutable.replace('\\'t', ''))"
   ]
  },
  {
   "cell_type": "markdown",
   "metadata": {},
   "source": [
    "Strings können zwar indiziert werden (**sequenziell**)..."
   ]
  },
  {
   "cell_type": "code",
   "execution_count": 31,
   "metadata": {
    "slideshow": {
     "slide_type": "subslide"
    }
   },
   "outputs": [
    {
     "name": "stdout",
     "output_type": "stream",
     "text": [
      "t\n"
     ]
    }
   ],
   "source": [
    "print(immutable[4])"
   ]
  },
  {
   "cell_type": "markdown",
   "metadata": {},
   "source": [
    "... bleiben aber **unveränderbar**."
   ]
  },
  {
   "cell_type": "code",
   "execution_count": 32,
   "metadata": {
    "collapsed": true
   },
   "outputs": [],
   "source": [
    "#immutable[4] = 'T'"
   ]
  },
  {
   "cell_type": "markdown",
   "metadata": {
    "slideshow": {
     "slide_type": "slide"
    }
   },
   "source": [
    "## Tupel ( )\n",
    "Tupel sind **unveränderbare** Sequenzen von Elementen. Sie werden durch **`()`** begrenzt. Tupel können **indiziert** werden."
   ]
  },
  {
   "cell_type": "code",
   "execution_count": 33,
   "metadata": {
    "scrolled": true,
    "slideshow": {
     "slide_type": "subslide"
    }
   },
   "outputs": [
    {
     "name": "stdout",
     "output_type": "stream",
     "text": [
      "(3, 'inside')    3    inside    <class 'tuple'>\n"
     ]
    }
   ],
   "source": [
    "t = (3, 'inside')\n",
    "sp = '  ' \n",
    "print(t, sp, t[0], sp, t[1], sp, type(t))"
   ]
  },
  {
   "cell_type": "markdown",
   "metadata": {
    "slideshow": {
     "slide_type": "slide"
    }
   },
   "source": [
    "## Diktionäre { }\n",
    "Diktionäre sind Sequenzen von **Schlüssel-Wert-Paaren** (engl. key value pairs). Diktionäre sind durch **`{}`** begrenzt. Paare werden jeweils durch **`:`** verbunden. Diktionäre sind **veränderbar** und können **nicht indiziert** werden. \n",
    "\n",
    "`d = {key1: value1, key2: value2, ...}`"
   ]
  },
  {
   "cell_type": "code",
   "execution_count": 34,
   "metadata": {
    "slideshow": {
     "slide_type": "subslide"
    }
   },
   "outputs": [
    {
     "name": "stdout",
     "output_type": "stream",
     "text": [
      "{'gT': 'Mo, 16.00-18.00 Uhr', 'wa': 'Do, 18-20.00 Uhr'}\n"
     ]
    }
   ],
   "source": [
    "courses = {\"gT\": \"Mo, 16.00-18.00 Uhr\", \"wa\": \"Do, 18-20.00 Uhr\"}\n",
    "print(courses)"
   ]
  },
  {
   "cell_type": "markdown",
   "metadata": {},
   "source": [
    "Veränderbar..."
   ]
  },
  {
   "cell_type": "code",
   "execution_count": 35,
   "metadata": {
    "slideshow": {
     "slide_type": "fragment"
    }
   },
   "outputs": [
    {
     "name": "stdout",
     "output_type": "stream",
     "text": [
      "{'gT': 'Mo, 16.00-18.00 Uhr', 'wa': 'Do, 18-20.00 Uhr', 'kmx': 'Fr, 10-12.00 Uhr'}\n"
     ]
    }
   ],
   "source": [
    "courses['kmx'] = \"Fr, 10-12.00 Uhr\"\n",
    "print(courses)"
   ]
  },
  {
   "cell_type": "markdown",
   "metadata": {},
   "source": [
    "...aber nicht indizierbar."
   ]
  },
  {
   "cell_type": "code",
   "execution_count": 36,
   "metadata": {
    "collapsed": true,
    "slideshow": {
     "slide_type": "subslide"
    }
   },
   "outputs": [],
   "source": [
    "#courses[0:2]"
   ]
  },
  {
   "cell_type": "markdown",
   "metadata": {},
   "source": [
    "Beispiele für Funktionen extra für Diktionäre:"
   ]
  },
  {
   "cell_type": "code",
   "execution_count": 37,
   "metadata": {
    "scrolled": true,
    "slideshow": {
     "slide_type": "subslide"
    }
   },
   "outputs": [
    {
     "name": "stdout",
     "output_type": "stream",
     "text": [
      "dict_keys(['gT', 'wa', 'kmx']) --- dict_values(['Mo, 16.00-18.00 Uhr', 'Do, 18-20.00 Uhr', 'Fr, 10-12.00 Uhr'])\n"
     ]
    }
   ],
   "source": [
    "print(courses.keys(), '---', courses.values())"
   ]
  },
  {
   "cell_type": "markdown",
   "metadata": {
    "slideshow": {
     "slide_type": "slide"
    }
   },
   "source": [
    "## Sets { }\n",
    "Sets sind ungeordnete Sequenzen mit nur **einzigartiger Elemente**, welche durch **`{}`** begrenzt werden."
   ]
  },
  {
   "cell_type": "code",
   "execution_count": 38,
   "metadata": {
    "slideshow": {
     "slide_type": "subslide"
    }
   },
   "outputs": [
    {
     "data": {
      "text/plain": [
       "{'I', 'a', 'i', 'l', 'm', 'n', 't', 'u'}"
      ]
     },
     "execution_count": 38,
     "metadata": {},
     "output_type": "execute_result"
    }
   ],
   "source": [
    "confirmed = \"Illuminati\"\n",
    "set(confirmed)"
   ]
  },
  {
   "cell_type": "markdown",
   "metadata": {},
   "source": [
    "## Exkurs: Hilfefunktion"
   ]
  },
  {
   "cell_type": "code",
   "execution_count": 39,
   "metadata": {
    "collapsed": true
   },
   "outputs": [],
   "source": [
    "#help(5)\n",
    "#help(int)\n",
    "\n",
    "#help('Illuminati')\n",
    "#help(str)\n",
    "\n",
    "#help('nltk')"
   ]
  },
  {
   "cell_type": "markdown",
   "metadata": {
    "slideshow": {
     "slide_type": "slide"
    }
   },
   "source": [
    "## Exkurs: Import von Paketen\n",
    "Zusätzliche Module und Pakete müssen eingeladen bzw. importiert werden."
   ]
  },
  {
   "cell_type": "code",
   "execution_count": 40,
   "metadata": {
    "slideshow": {
     "slide_type": "subslide"
    }
   },
   "outputs": [
    {
     "data": {
      "text/plain": [
       "Counter({'I': 1, 'a': 1, 'i': 2, 'l': 2, 'm': 1, 'n': 1, 't': 1, 'u': 1})"
      ]
     },
     "execution_count": 40,
     "metadata": {},
     "output_type": "execute_result"
    }
   ],
   "source": [
    "import collections\n",
    "collections.Counter(confirmed)"
   ]
  },
  {
   "cell_type": "markdown",
   "metadata": {},
   "source": [
    "## Übungen"
   ]
  },
  {
   "cell_type": "markdown",
   "metadata": {},
   "source": [
    "1) Betrachten Sie die folgenden Objekte, stelle Sie die jeweiligen Datentypen fest und berechnen Sie (soweit möglich) die Länge der Objekte. Änderen Sie dann den Datentyp der Objekte zu String und berechnen Sie erneut die Länge der Objekte. Was fällt auf?"
   ]
  },
  {
   "cell_type": "code",
   "execution_count": 41,
   "metadata": {
    "collapsed": true
   },
   "outputs": [],
   "source": [
    "one = 1\n",
    "two = [1,2]\n",
    "three = (1,2,3)\n",
    "four = {1:2,3:4} "
   ]
  },
  {
   "cell_type": "code",
   "execution_count": null,
   "metadata": {},
   "outputs": [],
   "source": []
  },
  {
   "cell_type": "markdown",
   "metadata": {},
   "source": [
    "2) Ersetzen Sie im String *Snakes* durch *Python*. Verändern Sie danach den String so, dass jeder Buchstabe im String großgeschrieben ist."
   ]
  },
  {
   "cell_type": "code",
   "execution_count": 43,
   "metadata": {
    "collapsed": true
   },
   "outputs": [],
   "source": [
    "pref =  'I like Snakes'"
   ]
  },
  {
   "cell_type": "code",
   "execution_count": null,
   "metadata": {},
   "outputs": [],
   "source": []
  },
  {
   "cell_type": "markdown",
   "metadata": {},
   "source": [
    "3) Gegeben sind drei Strings. Kombinieren Sie diese Strings in einem neuen Objekt, sodass alle Buchstaben als Kleinbuchstaben abgespeichert werden. (Bonus: Verändern Sie den neu erzeugten String zusätzlich so, dass er gut leserlich ist.)"
   ]
  },
  {
   "cell_type": "code",
   "execution_count": 7,
   "metadata": {
    "collapsed": true
   },
   "outputs": [],
   "source": [
    "zen = \"Simple is better than complex. \"\n",
    "of = \"COMPLEX IS BETTER THAN COMPLICATED\"\n",
    "python = \"flat is better than nested.\""
   ]
  },
  {
   "cell_type": "code",
   "execution_count": null,
   "metadata": {},
   "outputs": [],
   "source": []
  },
  {
   "cell_type": "markdown",
   "metadata": {},
   "source": [
    "4) Legen Sie eine Liste an, deren einzelne Elemente aus den Wörtern des in 3) neu generierten String-Objekts bestehen. Geben Sie das erste und letzte Element als Tupel aus."
   ]
  },
  {
   "cell_type": "code",
   "execution_count": null,
   "metadata": {},
   "outputs": [],
   "source": []
  },
  {
   "cell_type": "markdown",
   "metadata": {},
   "source": [
    "5) Erstellen Sie ein Diktionär, welches die Elemente der in 4) erstellten Liste als Values enthält. Der jeweilige Key soll der Position des Elements aus Aufgabe 4 entsprechen (Hinweis: Funktionen dict() und zip()). "
   ]
  },
  {
   "cell_type": "code",
   "execution_count": 12,
   "metadata": {
    "collapsed": true
   },
   "outputs": [],
   "source": [
    "bsp = {0:'simple', 1:'is'}"
   ]
  },
  {
   "cell_type": "code",
   "execution_count": null,
   "metadata": {},
   "outputs": [],
   "source": []
  },
  {
   "cell_type": "markdown",
   "metadata": {},
   "source": [
    "6) Importieren Sie die Python Bibliothek collections. Verwenden Sie anschließend die Funktion `Counter` um eine Häufigkeitsauszählung der Listenelemente aus 4) in einem neuen Objekt zu speichern. Welchen Datentyp hat das Objekt?"
   ]
  },
  {
   "cell_type": "code",
   "execution_count": null,
   "metadata": {},
   "outputs": [],
   "source": []
  },
  {
   "cell_type": "markdown",
   "metadata": {},
   "source": [
    "7) Berechnen Sie die Summe der Häufigkeiten aus 6) und speicheren Sie das Ergebnis in einem neuen Diktionär unter dem Key `summe`. "
   ]
  },
  {
   "cell_type": "code",
   "execution_count": null,
   "metadata": {},
   "outputs": [],
   "source": []
  },
  {
   "cell_type": "markdown",
   "metadata": {},
   "source": [
    "**Bonus**\n",
    "\n",
    "8) Schreibt ein Programm, dass die Teilbarkeit einer ganzen Zahl überprüft. Wenn die Zahl durch 5 und durch 3 teilbar ist, soll das Programm einen entsprechenden Hinweis drucken. Weiterhin soll unterschieden und gedruckt werden, ob die Zahl nur durch 5 oder nur durch 3 teilbar ist (Hinweise: Rest Operator `%` und `if`/`elif`/`else`-Bedingungen)"
   ]
  },
  {
   "cell_type": "code",
   "execution_count": 19,
   "metadata": {},
   "outputs": [
    {
     "name": "stdout",
     "output_type": "stream",
     "text": [
      "Ungerade!\n"
     ]
    }
   ],
   "source": [
    "#similar example\n",
    "zahl = 13\n",
    "\n",
    "if int(zahl) % 2 != 0:\n",
    "    print('Ungerade!')\n",
    "else:\n",
    "    print('Gerade!')"
   ]
  },
  {
   "cell_type": "code",
   "execution_count": null,
   "metadata": {
    "collapsed": true
   },
   "outputs": [],
   "source": []
  }
 ],
 "metadata": {
  "celltoolbar": "Slideshow",
  "kernelspec": {
   "display_name": "Python 3",
   "language": "python",
   "name": "python3"
  },
  "language_info": {
   "codemirror_mode": {
    "name": "ipython",
    "version": 3
   },
   "file_extension": ".py",
   "mimetype": "text/x-python",
   "name": "python",
   "nbconvert_exporter": "python",
   "pygments_lexer": "ipython3",
   "version": "3.7.3"
  }
 },
 "nbformat": 4,
 "nbformat_minor": 1
}
