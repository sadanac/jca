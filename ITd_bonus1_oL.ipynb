{
 "cells": [
  {
   "cell_type": "markdown",
   "metadata": {},
   "source": [
    "## Bonus A"
   ]
  },
  {
   "cell_type": "markdown",
   "metadata": {},
   "source": [
    "1) Wieso ist der Ausdruck *print* ungeeignet für die Benennung eines Objektes? Erkläutern Sie kurz."
   ]
  },
  {
   "cell_type": "code",
   "execution_count": null,
   "metadata": {},
   "outputs": [],
   "source": []
  },
  {
   "cell_type": "markdown",
   "metadata": {},
   "source": [
    "2) Erklären Sie Die Datentypen `list`, `tupel`, `set` und `dict`. Woran erkennt man den jeweiligen Datentype? Was haben die Datentypen für Eigenschaften?"
   ]
  },
  {
   "cell_type": "code",
   "execution_count": null,
   "metadata": {},
   "outputs": [],
   "source": []
  },
  {
   "cell_type": "markdown",
   "metadata": {},
   "source": [
    "3) Was ist Indizierung? Wie funktioniert Indizierung? Für was kann Indizierung genutzt werden? Was ist zu beachten?"
   ]
  },
  {
   "cell_type": "code",
   "execution_count": null,
   "metadata": {},
   "outputs": [],
   "source": []
  },
  {
   "cell_type": "markdown",
   "metadata": {},
   "source": [
    "4) Betrachten Sie die folgenden Objekte, stelle Sie die jeweiligen Datentypen fest und berechnen Sie (soweit möglich) die Länge der Objekte. Änderen Sie dann den Datentyp der Objekte zu String und berechnen Sie erneut die Länge der Objekte. Was fällt auf?"
   ]
  },
  {
   "cell_type": "code",
   "execution_count": 1,
   "metadata": {},
   "outputs": [],
   "source": [
    "one = 1\n",
    "two = [1,2]\n",
    "three = (1,2,3)\n",
    "four = {1:2,3:4} "
   ]
  },
  {
   "cell_type": "code",
   "execution_count": null,
   "metadata": {},
   "outputs": [],
   "source": []
  },
  {
   "cell_type": "markdown",
   "metadata": {},
   "source": [
    "5) Ersetzen Sie im String *Snakes* durch *Python*. Verändern Sie danach den String so, dass jeder Buchstabe im String großgeschrieben ist."
   ]
  },
  {
   "cell_type": "code",
   "execution_count": 2,
   "metadata": {},
   "outputs": [],
   "source": [
    "pref =  'I like Snakes'\n",
    "alt = 'Snakes'\n",
    "py = 'Python'"
   ]
  },
  {
   "cell_type": "code",
   "execution_count": null,
   "metadata": {},
   "outputs": [],
   "source": []
  },
  {
   "cell_type": "markdown",
   "metadata": {},
   "source": [
    "6) Gegeben sind drei Strings. Kombinieren Sie diese Strings in einem neuen Objekt, sodass alle Buchstaben als Kleinbuchstaben abgespeichert werden. (Bonus: Verändern Sie den neu erzeugten String so, dass er gut leserlich ist.)"
   ]
  },
  {
   "cell_type": "code",
   "execution_count": 3,
   "metadata": {},
   "outputs": [],
   "source": [
    "zen_ = \"Simple is better than complex. \"\n",
    "of_ = \"COMPLEX IS BETTER THAN COMPLICATED\"\n",
    "python_ = \"flat is better than nested.\""
   ]
  },
  {
   "cell_type": "code",
   "execution_count": null,
   "metadata": {},
   "outputs": [],
   "source": []
  },
  {
   "cell_type": "markdown",
   "metadata": {},
   "source": [
    "7) Legen Sie eine Liste an, deren einzelne Elemente aus den Wörtern des neu generierten String-Objekts bestehen. Geben Sie das erste und letzte Element als Tupel aus."
   ]
  },
  {
   "cell_type": "code",
   "execution_count": null,
   "metadata": {},
   "outputs": [],
   "source": []
  },
  {
   "cell_type": "markdown",
   "metadata": {},
   "source": [
    "8) Erstellen Sie ein Diktionär, welches die Elemente der in 4) erstellten Liste als Values enthält. Der jeweilige Key soll der Position des Elements aus Aufgabe 4 entsprechen (Hinweis: Funktionen dict() und zip()). "
   ]
  },
  {
   "cell_type": "code",
   "execution_count": 4,
   "metadata": {},
   "outputs": [],
   "source": [
    "bsp = {0:'simple', 1:'is'}"
   ]
  },
  {
   "cell_type": "code",
   "execution_count": null,
   "metadata": {},
   "outputs": [],
   "source": []
  },
  {
   "cell_type": "markdown",
   "metadata": {},
   "source": [
    "9) Importieren Sie die Python Bibliothek collections. Verwenden Sie anschließend die Funktion `Counter` um eine Häufigkeitsauszählung der Listenelemente aus 4) in einem neuen Objekt zu speichern. Welchen Datentyp hat das Objekt?"
   ]
  },
  {
   "cell_type": "code",
   "execution_count": null,
   "metadata": {},
   "outputs": [],
   "source": []
  },
  {
   "cell_type": "markdown",
   "metadata": {},
   "source": [
    "10) Berechnen Sie die Summe der Häufigkeiten aus 6) und speicheren Sie das Ergebnis in einem neuen Diktionär unter dem Schlüssel `summe`. "
   ]
  },
  {
   "cell_type": "code",
   "execution_count": null,
   "metadata": {},
   "outputs": [],
   "source": []
  },
  {
   "cell_type": "markdown",
   "metadata": {
    "collapsed": true
   },
   "source": [
    "## Bonus B"
   ]
  },
  {
   "cell_type": "markdown",
   "metadata": {},
   "source": [
    "11) \n",
    "- Richten Sie Anaconda, Python und Jupyter Notebook auf einem privaten Rechner ein. Was fällt auf? Gibt es Schwierigkeiten?\n",
    "- Installieren Sie das Paket *seaborn*. \n",
    "- Führen Sie *ITd_1* und *ITd_2* auf lokal aus. Was ist zu beachten?"
   ]
  },
  {
   "cell_type": "code",
   "execution_count": null,
   "metadata": {},
   "outputs": [],
   "source": []
  },
  {
   "cell_type": "markdown",
   "metadata": {},
   "source": [
    "12) Richten Sie ein eigenes öffentliches Repositorium bei *GitHub* ein und erstellen Sie damit ein eigenes Repositorium bei *binder*. Machen Sie die Lösung der Bonusaufgaben dort zugänglich."
   ]
  },
  {
   "cell_type": "code",
   "execution_count": null,
   "metadata": {},
   "outputs": [],
   "source": []
  },
  {
   "cell_type": "markdown",
   "metadata": {},
   "source": [
    "## Bonus C"
   ]
  },
  {
   "cell_type": "markdown",
   "metadata": {},
   "source": [
    "Schreibt ein Programm, dass die Teilbarkeit einer ganzen Zahl überprüft. Wenn die Zahl durch 5 und durch 3 teilbar ist, soll das Programm einen entsprechenden Hinweis drucken. Weiterhin soll unterschieden und gedruckt werden, ob die Zahl nur durch 5 oder nur durch 3 teilbar ist (Hinweise: Rest Operator `%` und `if`/`elif`/`else`-Bedingungen)"
   ]
  },
  {
   "cell_type": "code",
   "execution_count": 5,
   "metadata": {},
   "outputs": [
    {
     "name": "stdout",
     "output_type": "stream",
     "text": [
      "Ungerade!\n"
     ]
    }
   ],
   "source": [
    "## similar example\n",
    "zahl = 13\n",
    "\n",
    "if int(zahl) % 2 != 0:\n",
    "    print('Ungerade!')\n",
    "else:\n",
    "    print('Gerade!')"
   ]
  },
  {
   "cell_type": "code",
   "execution_count": null,
   "metadata": {
    "collapsed": true
   },
   "outputs": [],
   "source": []
  }
 ],
 "metadata": {
  "celltoolbar": "Slideshow",
  "kernelspec": {
   "display_name": "Python 3",
   "language": "python",
   "name": "python3"
  },
  "language_info": {
   "codemirror_mode": {
    "name": "ipython",
    "version": 3
   },
   "file_extension": ".py",
   "mimetype": "text/x-python",
   "name": "python",
   "nbconvert_exporter": "python",
   "pygments_lexer": "ipython3",
   "version": "3.7.3"
  }
 },
 "nbformat": 4,
 "nbformat_minor": 1
}
